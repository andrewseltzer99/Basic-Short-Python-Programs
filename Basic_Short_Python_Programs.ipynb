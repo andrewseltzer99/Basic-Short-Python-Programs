{
  "nbformat": 4,
  "nbformat_minor": 0,
  "metadata": {
    "colab": {
      "name": "Basic Short Python Programs.ipynb",
      "provenance": [],
      "collapsed_sections": [],
      "include_colab_link": true
    },
    "kernelspec": {
      "name": "python3",
      "display_name": "Python 3"
    }
  },
  "cells": [
    {
      "cell_type": "markdown",
      "metadata": {
        "id": "view-in-github",
        "colab_type": "text"
      },
      "source": [
        "<a href=\"https://colab.research.google.com/github/andrewseltzer99/Basic-Short-Python-Programs/blob/main/Basic_Short_Python_Programs.ipynb\" target=\"_parent\"><img src=\"https://colab.research.google.com/assets/colab-badge.svg\" alt=\"Open In Colab\"/></a>"
      ]
    },
    {
      "cell_type": "markdown",
      "metadata": {
        "id": "uacFrEaZfcfq"
      },
      "source": [
        "##### Q1. Write a program that prompts the user to enter a password then prints the length of the password.\n",
        "\n",
        "```\n",
        "Enter your password: hello\n",
        "Your password is 5 long.\n",
        "```\n",
        "\n",
        "\n"
      ]
    },
    {
      "cell_type": "code",
      "metadata": {
        "id": "avPyES14ftCt",
        "colab": {
          "base_uri": "https://localhost:8080/"
        },
        "outputId": "925f16ee-5c55-4b6b-cd0c-b2f8acaa6205"
      },
      "source": [
        "# Type solution here\n",
        "password = input(\"Enter your password: \")\n",
        "print(\"Your password is\", len(password), \"long.\")"
      ],
      "execution_count": null,
      "outputs": [
        {
          "output_type": "stream",
          "text": [
            "Enter your password: hello\n",
            "Your password is 5 long\n"
          ],
          "name": "stdout"
        }
      ]
    },
    {
      "cell_type": "markdown",
      "metadata": {
        "id": "ekh-kABuItli"
      },
      "source": [
        ""
      ]
    },
    {
      "cell_type": "markdown",
      "metadata": {
        "id": "K1yko-xUItU3"
      },
      "source": [
        ""
      ]
    },
    {
      "cell_type": "markdown",
      "metadata": {
        "id": "behD0j_Of2TW"
      },
      "source": [
        "##### Q2. Write a program that prompts the user to enter their full name then prints the number of characters in their name (do not count spaces).\n",
        "\n",
        "```\n",
        "What is your name? Amulya Katti\n",
        "Amulya Katti your name has 11 characters.\n",
        "```"
      ]
    },
    {
      "cell_type": "code",
      "metadata": {
        "id": "XSdIRjwlhSlu",
        "colab": {
          "base_uri": "https://localhost:8080/"
        },
        "outputId": "f4d85154-9d50-452b-d19a-dd97e5654801"
      },
      "source": [
        "# Type solution here\n",
        "name = input(\"What is your name? \")\n",
        "nameStrip = name.replace(\" \", \"\")\n",
        "print(name, \"your name has\", len(nameStrip), \"characters\")\n"
      ],
      "execution_count": null,
      "outputs": [
        {
          "output_type": "stream",
          "text": [
            "What is your name? andrew s\n",
            "andrew s your name has 7 characters\n"
          ],
          "name": "stdout"
        }
      ]
    },
    {
      "cell_type": "markdown",
      "metadata": {
        "id": "5KHOWF6FhVHV"
      },
      "source": [
        "##### Q3. Write a program that prompts the user to enter a month (as a number), then prints the name of the month and the number of days in that month. Ensure that the user inputs a valid month and handle any error cases.\n",
        "\n",
        "```\n",
        "Enter the month number: 9\n",
        "September has 30 days\n",
        "```"
      ]
    },
    {
      "cell_type": "code",
      "metadata": {
        "id": "KhS-SAEThyTG",
        "colab": {
          "base_uri": "https://localhost:8080/"
        },
        "outputId": "24667b34-d30d-4a8c-b7b8-712040831713"
      },
      "source": [
        "# Type solution here\n",
        "monthName = ['January', 'February', 'March', 'April', 'May', 'June', 'July', 'August', 'September', 'October', 'November', 'December']\n",
        "monthLen = ['31', '28', '31', '30', '31', '30', '31', '31', '30', '31', '30', '31']\n",
        "choice = int(input(\"Enter the month number: \"))\n",
        "# error checking\n",
        "while choice < 1 or choice > 12:\n",
        "  choice = int(input(\"Enter the month number: \"))\n",
        "# subtract one bc list starts at 0\n",
        "choice -= 1\n",
        "print(monthName[choice], \"has\", monthLen[choice], \"days\")"
      ],
      "execution_count": null,
      "outputs": [
        {
          "output_type": "stream",
          "text": [
            "Enter the month number: 4\n",
            "April has 30 days\n"
          ],
          "name": "stdout"
        }
      ]
    },
    {
      "cell_type": "markdown",
      "metadata": {
        "id": "O7lnAdGlh6Xa"
      },
      "source": [
        "##### Q4. Write a program that prompts the user to enter a loan amount, annual interest rate, and number of years  for a car loan. Then calculate and print the monthly payment amount.\n",
        "\n",
        "Note:\n",
        "```\n",
        "PMT= [PV*i*((1+i)^n)]/[((1+i)^n)-1]\n",
        "```\n",
        "PMT is the monthly payment\n",
        "\n",
        "PV is the loan amount\n",
        "\n",
        "i is the interest rate per month in decimal form (interest rate percentage divided by 12)\n",
        "\n",
        "n is the number of months (term of the loan in months)\n",
        "\n",
        "```\n",
        "Loan Amount: 30000.00\n",
        "Annual Interest Rate: 4.00\n",
        "Years: 5\n",
        "Your monthly payment is: $552.50\n",
        "```"
      ]
    },
    {
      "cell_type": "code",
      "metadata": {
        "id": "p4B5JH5GiTs9",
        "colab": {
          "base_uri": "https://localhost:8080/"
        },
        "outputId": "23f49731-a21d-41ee-923e-68a301baa0d0"
      },
      "source": [
        "# Type solution here\n",
        "PV = float(input(\"Loan Amount: \"))\n",
        "i = float(input(\"Annual Interest Rate: \"))\n",
        "n = int(input(\"Years: \"))\n",
        "i = i/12/100\n",
        "n *= 12\n",
        "final = (PV*i*((1+i)**n))/(((1+i)**n)-1)\n",
        "print(\"{:.2f}\".format(final))"
      ],
      "execution_count": null,
      "outputs": [
        {
          "output_type": "stream",
          "text": [
            "Loan Amount: 30000.00\n",
            "Annual Interest Rate: 4.00\n",
            "Years: 5\n",
            "552.50\n"
          ],
          "name": "stdout"
        }
      ]
    },
    {
      "cell_type": "markdown",
      "metadata": {
        "id": "SjiolJKgiWV-"
      },
      "source": [
        "##### Q5. Write a program to that prompts the user to enter a string. Then check whether or not the string is a palindrome.\n",
        "\n",
        "```\n",
        "Enter a string: Madam\n",
        "Madam, is a palindrome!\n",
        "```"
      ]
    },
    {
      "cell_type": "code",
      "metadata": {
        "id": "F5_M934Ri0es",
        "colab": {
          "base_uri": "https://localhost:8080/"
        },
        "outputId": "3ec9f0f2-af1c-4a6b-9c8b-f7a2a31e6bfd"
      },
      "source": [
        "# Type solution here\n",
        "name = input(\"Enter a string: \")\n",
        "name1 = name.lower()\n",
        "if name1 == name1[::-1]:\n",
        "  print(name, \" is a palindrome!\", sep=\"\")\n",
        "else:\n",
        "  print(name, \" is not a palindrome.\", sep=\"\")"
      ],
      "execution_count": null,
      "outputs": [
        {
          "output_type": "stream",
          "text": [
            "Enter a string: Hannah\n",
            "Hannah is a palindrome!\n"
          ],
          "name": "stdout"
        }
      ]
    },
    {
      "cell_type": "markdown",
      "metadata": {
        "id": "BLBD6n9vkJEu"
      },
      "source": [
        "##### Q6. Write a program to compute and print all possible combinations of change for \\$1. Denominations to be considered – quarter, dime, nickel, penny.\n",
        "\n",
        "Hint: Use nested loops (loops within loops for the various denominations of coins)\n",
        "\n",
        "```\n",
        "Change for $1:\n",
        "0 quarters, 0 dimes, 0 nickels, 100 pennies\n",
        "…\n",
        "4 quarters, 0 dimes, 0 nickels, 0 pennies\n",
        "```"
      ]
    },
    {
      "cell_type": "code",
      "metadata": {
        "id": "kAQsTjwDkZZ5",
        "colab": {
          "base_uri": "https://localhost:8080/"
        },
        "outputId": "dec91595-c338-42a9-c122-dc06d1429519"
      },
      "source": [
        "# Type solution here\n",
        "cents = 100\n",
        "denominations = [25, 10, 5, 1]\n",
        "names = {25: \"quarters(s)\", 10: \"dime(s)\", 5: \"nickel(s)\", 1:\"pennies\"}\n",
        "count = 0\n",
        "print(\"Change for $1:\")\n",
        "for q in range(5):\n",
        "  for d in range(11):\n",
        "    for n in range(21):\n",
        "      for p in range(101):\n",
        "        if q*25 + d*10 + n*5 + p*1 == 100:\n",
        "          print(q, \"quarters,\", d, \"dimes,\", n, \"nickels\", p,\"pennies\")\n"
      ],
      "execution_count": null,
      "outputs": [
        {
          "output_type": "stream",
          "text": [
            "Change for $1:\n",
            "0 quarters, 0 dimes, 0 nickels 100 pennies\n",
            "0 quarters, 0 dimes, 1 nickels 95 pennies\n",
            "0 quarters, 0 dimes, 2 nickels 90 pennies\n",
            "0 quarters, 0 dimes, 3 nickels 85 pennies\n",
            "0 quarters, 0 dimes, 4 nickels 80 pennies\n",
            "0 quarters, 0 dimes, 5 nickels 75 pennies\n",
            "0 quarters, 0 dimes, 6 nickels 70 pennies\n",
            "0 quarters, 0 dimes, 7 nickels 65 pennies\n",
            "0 quarters, 0 dimes, 8 nickels 60 pennies\n",
            "0 quarters, 0 dimes, 9 nickels 55 pennies\n",
            "0 quarters, 0 dimes, 10 nickels 50 pennies\n",
            "0 quarters, 0 dimes, 11 nickels 45 pennies\n",
            "0 quarters, 0 dimes, 12 nickels 40 pennies\n",
            "0 quarters, 0 dimes, 13 nickels 35 pennies\n",
            "0 quarters, 0 dimes, 14 nickels 30 pennies\n",
            "0 quarters, 0 dimes, 15 nickels 25 pennies\n",
            "0 quarters, 0 dimes, 16 nickels 20 pennies\n",
            "0 quarters, 0 dimes, 17 nickels 15 pennies\n",
            "0 quarters, 0 dimes, 18 nickels 10 pennies\n",
            "0 quarters, 0 dimes, 19 nickels 5 pennies\n",
            "0 quarters, 0 dimes, 20 nickels 0 pennies\n",
            "0 quarters, 1 dimes, 0 nickels 90 pennies\n",
            "0 quarters, 1 dimes, 1 nickels 85 pennies\n",
            "0 quarters, 1 dimes, 2 nickels 80 pennies\n",
            "0 quarters, 1 dimes, 3 nickels 75 pennies\n",
            "0 quarters, 1 dimes, 4 nickels 70 pennies\n",
            "0 quarters, 1 dimes, 5 nickels 65 pennies\n",
            "0 quarters, 1 dimes, 6 nickels 60 pennies\n",
            "0 quarters, 1 dimes, 7 nickels 55 pennies\n",
            "0 quarters, 1 dimes, 8 nickels 50 pennies\n",
            "0 quarters, 1 dimes, 9 nickels 45 pennies\n",
            "0 quarters, 1 dimes, 10 nickels 40 pennies\n",
            "0 quarters, 1 dimes, 11 nickels 35 pennies\n",
            "0 quarters, 1 dimes, 12 nickels 30 pennies\n",
            "0 quarters, 1 dimes, 13 nickels 25 pennies\n",
            "0 quarters, 1 dimes, 14 nickels 20 pennies\n",
            "0 quarters, 1 dimes, 15 nickels 15 pennies\n",
            "0 quarters, 1 dimes, 16 nickels 10 pennies\n",
            "0 quarters, 1 dimes, 17 nickels 5 pennies\n",
            "0 quarters, 1 dimes, 18 nickels 0 pennies\n",
            "0 quarters, 2 dimes, 0 nickels 80 pennies\n",
            "0 quarters, 2 dimes, 1 nickels 75 pennies\n",
            "0 quarters, 2 dimes, 2 nickels 70 pennies\n",
            "0 quarters, 2 dimes, 3 nickels 65 pennies\n",
            "0 quarters, 2 dimes, 4 nickels 60 pennies\n",
            "0 quarters, 2 dimes, 5 nickels 55 pennies\n",
            "0 quarters, 2 dimes, 6 nickels 50 pennies\n",
            "0 quarters, 2 dimes, 7 nickels 45 pennies\n",
            "0 quarters, 2 dimes, 8 nickels 40 pennies\n",
            "0 quarters, 2 dimes, 9 nickels 35 pennies\n",
            "0 quarters, 2 dimes, 10 nickels 30 pennies\n",
            "0 quarters, 2 dimes, 11 nickels 25 pennies\n",
            "0 quarters, 2 dimes, 12 nickels 20 pennies\n",
            "0 quarters, 2 dimes, 13 nickels 15 pennies\n",
            "0 quarters, 2 dimes, 14 nickels 10 pennies\n",
            "0 quarters, 2 dimes, 15 nickels 5 pennies\n",
            "0 quarters, 2 dimes, 16 nickels 0 pennies\n",
            "0 quarters, 3 dimes, 0 nickels 70 pennies\n",
            "0 quarters, 3 dimes, 1 nickels 65 pennies\n",
            "0 quarters, 3 dimes, 2 nickels 60 pennies\n",
            "0 quarters, 3 dimes, 3 nickels 55 pennies\n",
            "0 quarters, 3 dimes, 4 nickels 50 pennies\n",
            "0 quarters, 3 dimes, 5 nickels 45 pennies\n",
            "0 quarters, 3 dimes, 6 nickels 40 pennies\n",
            "0 quarters, 3 dimes, 7 nickels 35 pennies\n",
            "0 quarters, 3 dimes, 8 nickels 30 pennies\n",
            "0 quarters, 3 dimes, 9 nickels 25 pennies\n",
            "0 quarters, 3 dimes, 10 nickels 20 pennies\n",
            "0 quarters, 3 dimes, 11 nickels 15 pennies\n",
            "0 quarters, 3 dimes, 12 nickels 10 pennies\n",
            "0 quarters, 3 dimes, 13 nickels 5 pennies\n",
            "0 quarters, 3 dimes, 14 nickels 0 pennies\n",
            "0 quarters, 4 dimes, 0 nickels 60 pennies\n",
            "0 quarters, 4 dimes, 1 nickels 55 pennies\n",
            "0 quarters, 4 dimes, 2 nickels 50 pennies\n",
            "0 quarters, 4 dimes, 3 nickels 45 pennies\n",
            "0 quarters, 4 dimes, 4 nickels 40 pennies\n",
            "0 quarters, 4 dimes, 5 nickels 35 pennies\n",
            "0 quarters, 4 dimes, 6 nickels 30 pennies\n",
            "0 quarters, 4 dimes, 7 nickels 25 pennies\n",
            "0 quarters, 4 dimes, 8 nickels 20 pennies\n",
            "0 quarters, 4 dimes, 9 nickels 15 pennies\n",
            "0 quarters, 4 dimes, 10 nickels 10 pennies\n",
            "0 quarters, 4 dimes, 11 nickels 5 pennies\n",
            "0 quarters, 4 dimes, 12 nickels 0 pennies\n",
            "0 quarters, 5 dimes, 0 nickels 50 pennies\n",
            "0 quarters, 5 dimes, 1 nickels 45 pennies\n",
            "0 quarters, 5 dimes, 2 nickels 40 pennies\n",
            "0 quarters, 5 dimes, 3 nickels 35 pennies\n",
            "0 quarters, 5 dimes, 4 nickels 30 pennies\n",
            "0 quarters, 5 dimes, 5 nickels 25 pennies\n",
            "0 quarters, 5 dimes, 6 nickels 20 pennies\n",
            "0 quarters, 5 dimes, 7 nickels 15 pennies\n",
            "0 quarters, 5 dimes, 8 nickels 10 pennies\n",
            "0 quarters, 5 dimes, 9 nickels 5 pennies\n",
            "0 quarters, 5 dimes, 10 nickels 0 pennies\n",
            "0 quarters, 6 dimes, 0 nickels 40 pennies\n",
            "0 quarters, 6 dimes, 1 nickels 35 pennies\n",
            "0 quarters, 6 dimes, 2 nickels 30 pennies\n",
            "0 quarters, 6 dimes, 3 nickels 25 pennies\n",
            "0 quarters, 6 dimes, 4 nickels 20 pennies\n",
            "0 quarters, 6 dimes, 5 nickels 15 pennies\n",
            "0 quarters, 6 dimes, 6 nickels 10 pennies\n",
            "0 quarters, 6 dimes, 7 nickels 5 pennies\n",
            "0 quarters, 6 dimes, 8 nickels 0 pennies\n",
            "0 quarters, 7 dimes, 0 nickels 30 pennies\n",
            "0 quarters, 7 dimes, 1 nickels 25 pennies\n",
            "0 quarters, 7 dimes, 2 nickels 20 pennies\n",
            "0 quarters, 7 dimes, 3 nickels 15 pennies\n",
            "0 quarters, 7 dimes, 4 nickels 10 pennies\n",
            "0 quarters, 7 dimes, 5 nickels 5 pennies\n",
            "0 quarters, 7 dimes, 6 nickels 0 pennies\n",
            "0 quarters, 8 dimes, 0 nickels 20 pennies\n",
            "0 quarters, 8 dimes, 1 nickels 15 pennies\n",
            "0 quarters, 8 dimes, 2 nickels 10 pennies\n",
            "0 quarters, 8 dimes, 3 nickels 5 pennies\n",
            "0 quarters, 8 dimes, 4 nickels 0 pennies\n",
            "0 quarters, 9 dimes, 0 nickels 10 pennies\n",
            "0 quarters, 9 dimes, 1 nickels 5 pennies\n",
            "0 quarters, 9 dimes, 2 nickels 0 pennies\n",
            "0 quarters, 10 dimes, 0 nickels 0 pennies\n",
            "1 quarters, 0 dimes, 0 nickels 75 pennies\n",
            "1 quarters, 0 dimes, 1 nickels 70 pennies\n",
            "1 quarters, 0 dimes, 2 nickels 65 pennies\n",
            "1 quarters, 0 dimes, 3 nickels 60 pennies\n",
            "1 quarters, 0 dimes, 4 nickels 55 pennies\n",
            "1 quarters, 0 dimes, 5 nickels 50 pennies\n",
            "1 quarters, 0 dimes, 6 nickels 45 pennies\n",
            "1 quarters, 0 dimes, 7 nickels 40 pennies\n",
            "1 quarters, 0 dimes, 8 nickels 35 pennies\n",
            "1 quarters, 0 dimes, 9 nickels 30 pennies\n",
            "1 quarters, 0 dimes, 10 nickels 25 pennies\n",
            "1 quarters, 0 dimes, 11 nickels 20 pennies\n",
            "1 quarters, 0 dimes, 12 nickels 15 pennies\n",
            "1 quarters, 0 dimes, 13 nickels 10 pennies\n",
            "1 quarters, 0 dimes, 14 nickels 5 pennies\n",
            "1 quarters, 0 dimes, 15 nickels 0 pennies\n",
            "1 quarters, 1 dimes, 0 nickels 65 pennies\n",
            "1 quarters, 1 dimes, 1 nickels 60 pennies\n",
            "1 quarters, 1 dimes, 2 nickels 55 pennies\n",
            "1 quarters, 1 dimes, 3 nickels 50 pennies\n",
            "1 quarters, 1 dimes, 4 nickels 45 pennies\n",
            "1 quarters, 1 dimes, 5 nickels 40 pennies\n",
            "1 quarters, 1 dimes, 6 nickels 35 pennies\n",
            "1 quarters, 1 dimes, 7 nickels 30 pennies\n",
            "1 quarters, 1 dimes, 8 nickels 25 pennies\n",
            "1 quarters, 1 dimes, 9 nickels 20 pennies\n",
            "1 quarters, 1 dimes, 10 nickels 15 pennies\n",
            "1 quarters, 1 dimes, 11 nickels 10 pennies\n",
            "1 quarters, 1 dimes, 12 nickels 5 pennies\n",
            "1 quarters, 1 dimes, 13 nickels 0 pennies\n",
            "1 quarters, 2 dimes, 0 nickels 55 pennies\n",
            "1 quarters, 2 dimes, 1 nickels 50 pennies\n",
            "1 quarters, 2 dimes, 2 nickels 45 pennies\n",
            "1 quarters, 2 dimes, 3 nickels 40 pennies\n",
            "1 quarters, 2 dimes, 4 nickels 35 pennies\n",
            "1 quarters, 2 dimes, 5 nickels 30 pennies\n",
            "1 quarters, 2 dimes, 6 nickels 25 pennies\n",
            "1 quarters, 2 dimes, 7 nickels 20 pennies\n",
            "1 quarters, 2 dimes, 8 nickels 15 pennies\n",
            "1 quarters, 2 dimes, 9 nickels 10 pennies\n",
            "1 quarters, 2 dimes, 10 nickels 5 pennies\n",
            "1 quarters, 2 dimes, 11 nickels 0 pennies\n",
            "1 quarters, 3 dimes, 0 nickels 45 pennies\n",
            "1 quarters, 3 dimes, 1 nickels 40 pennies\n",
            "1 quarters, 3 dimes, 2 nickels 35 pennies\n",
            "1 quarters, 3 dimes, 3 nickels 30 pennies\n",
            "1 quarters, 3 dimes, 4 nickels 25 pennies\n",
            "1 quarters, 3 dimes, 5 nickels 20 pennies\n",
            "1 quarters, 3 dimes, 6 nickels 15 pennies\n",
            "1 quarters, 3 dimes, 7 nickels 10 pennies\n",
            "1 quarters, 3 dimes, 8 nickels 5 pennies\n",
            "1 quarters, 3 dimes, 9 nickels 0 pennies\n",
            "1 quarters, 4 dimes, 0 nickels 35 pennies\n",
            "1 quarters, 4 dimes, 1 nickels 30 pennies\n",
            "1 quarters, 4 dimes, 2 nickels 25 pennies\n",
            "1 quarters, 4 dimes, 3 nickels 20 pennies\n",
            "1 quarters, 4 dimes, 4 nickels 15 pennies\n",
            "1 quarters, 4 dimes, 5 nickels 10 pennies\n",
            "1 quarters, 4 dimes, 6 nickels 5 pennies\n",
            "1 quarters, 4 dimes, 7 nickels 0 pennies\n",
            "1 quarters, 5 dimes, 0 nickels 25 pennies\n",
            "1 quarters, 5 dimes, 1 nickels 20 pennies\n",
            "1 quarters, 5 dimes, 2 nickels 15 pennies\n",
            "1 quarters, 5 dimes, 3 nickels 10 pennies\n",
            "1 quarters, 5 dimes, 4 nickels 5 pennies\n",
            "1 quarters, 5 dimes, 5 nickels 0 pennies\n",
            "1 quarters, 6 dimes, 0 nickels 15 pennies\n",
            "1 quarters, 6 dimes, 1 nickels 10 pennies\n",
            "1 quarters, 6 dimes, 2 nickels 5 pennies\n",
            "1 quarters, 6 dimes, 3 nickels 0 pennies\n",
            "1 quarters, 7 dimes, 0 nickels 5 pennies\n",
            "1 quarters, 7 dimes, 1 nickels 0 pennies\n",
            "2 quarters, 0 dimes, 0 nickels 50 pennies\n",
            "2 quarters, 0 dimes, 1 nickels 45 pennies\n",
            "2 quarters, 0 dimes, 2 nickels 40 pennies\n",
            "2 quarters, 0 dimes, 3 nickels 35 pennies\n",
            "2 quarters, 0 dimes, 4 nickels 30 pennies\n",
            "2 quarters, 0 dimes, 5 nickels 25 pennies\n",
            "2 quarters, 0 dimes, 6 nickels 20 pennies\n",
            "2 quarters, 0 dimes, 7 nickels 15 pennies\n",
            "2 quarters, 0 dimes, 8 nickels 10 pennies\n",
            "2 quarters, 0 dimes, 9 nickels 5 pennies\n",
            "2 quarters, 0 dimes, 10 nickels 0 pennies\n",
            "2 quarters, 1 dimes, 0 nickels 40 pennies\n",
            "2 quarters, 1 dimes, 1 nickels 35 pennies\n",
            "2 quarters, 1 dimes, 2 nickels 30 pennies\n",
            "2 quarters, 1 dimes, 3 nickels 25 pennies\n",
            "2 quarters, 1 dimes, 4 nickels 20 pennies\n",
            "2 quarters, 1 dimes, 5 nickels 15 pennies\n",
            "2 quarters, 1 dimes, 6 nickels 10 pennies\n",
            "2 quarters, 1 dimes, 7 nickels 5 pennies\n",
            "2 quarters, 1 dimes, 8 nickels 0 pennies\n",
            "2 quarters, 2 dimes, 0 nickels 30 pennies\n",
            "2 quarters, 2 dimes, 1 nickels 25 pennies\n",
            "2 quarters, 2 dimes, 2 nickels 20 pennies\n",
            "2 quarters, 2 dimes, 3 nickels 15 pennies\n",
            "2 quarters, 2 dimes, 4 nickels 10 pennies\n",
            "2 quarters, 2 dimes, 5 nickels 5 pennies\n",
            "2 quarters, 2 dimes, 6 nickels 0 pennies\n",
            "2 quarters, 3 dimes, 0 nickels 20 pennies\n",
            "2 quarters, 3 dimes, 1 nickels 15 pennies\n",
            "2 quarters, 3 dimes, 2 nickels 10 pennies\n",
            "2 quarters, 3 dimes, 3 nickels 5 pennies\n",
            "2 quarters, 3 dimes, 4 nickels 0 pennies\n",
            "2 quarters, 4 dimes, 0 nickels 10 pennies\n",
            "2 quarters, 4 dimes, 1 nickels 5 pennies\n",
            "2 quarters, 4 dimes, 2 nickels 0 pennies\n",
            "2 quarters, 5 dimes, 0 nickels 0 pennies\n",
            "3 quarters, 0 dimes, 0 nickels 25 pennies\n",
            "3 quarters, 0 dimes, 1 nickels 20 pennies\n",
            "3 quarters, 0 dimes, 2 nickels 15 pennies\n",
            "3 quarters, 0 dimes, 3 nickels 10 pennies\n",
            "3 quarters, 0 dimes, 4 nickels 5 pennies\n",
            "3 quarters, 0 dimes, 5 nickels 0 pennies\n",
            "3 quarters, 1 dimes, 0 nickels 15 pennies\n",
            "3 quarters, 1 dimes, 1 nickels 10 pennies\n",
            "3 quarters, 1 dimes, 2 nickels 5 pennies\n",
            "3 quarters, 1 dimes, 3 nickels 0 pennies\n",
            "3 quarters, 2 dimes, 0 nickels 5 pennies\n",
            "3 quarters, 2 dimes, 1 nickels 0 pennies\n",
            "4 quarters, 0 dimes, 0 nickels 0 pennies\n"
          ],
          "name": "stdout"
        }
      ]
    },
    {
      "cell_type": "markdown",
      "metadata": {
        "id": "rUPDjYiIkbgs"
      },
      "source": [
        "##### Q7. Ask the user to enter two positive integers between 1 and 100. Read those integers. Then output a multiplication table of the first number times the second number. \n",
        "\n",
        "Note: You have to ensure the entered numbers are between 1 and 100 only.\n",
        "\n",
        "```\n",
        "Please enter an integer: 5\n",
        "Please enter another integer: 20\n",
        "5 x 1 = 5\n",
        "5 x 2 = 10\n",
        "5 x 3 = 15\n",
        "…\n",
        "5 x 20 = 100\n",
        "```"
      ]
    },
    {
      "cell_type": "code",
      "metadata": {
        "id": "Qg0Orv1klHzA",
        "colab": {
          "base_uri": "https://localhost:8080/"
        },
        "outputId": "89003cb4-0244-4dd4-9f51-f85f4602fe36"
      },
      "source": [
        "# Type solution here\n",
        "int1 = int(input(\"Please enter an integer: \"))\n",
        "while int1 < 1 or int1 > 100:\n",
        "  int1 = int(input(\"Please enter an integer: \"))\n",
        "int2 = int(input(\"Please enter another integer: \"))\n",
        "while int2 < 1 or int2 > 100:\n",
        "  int2 = int(input(\"Please enter an integer: \"))\n",
        "for x in range(1,int2+1):\n",
        "  print(int1,\"x\", x, \"=\", int1*x)"
      ],
      "execution_count": null,
      "outputs": [
        {
          "output_type": "stream",
          "text": [
            "Please enter an integer: 3\n",
            "Please enter another integer: 3\n",
            "3 x 1 = 3\n",
            "3 x 2 = 6\n",
            "3 x 3 = 9\n"
          ],
          "name": "stdout"
        }
      ]
    },
    {
      "cell_type": "markdown",
      "metadata": {
        "id": "SbnbPUPTlLD9"
      },
      "source": [
        "##### Q8. Write a program to ask the user to enter a password. Then check to see if it is a valid password based on these requirements -\n",
        "\n",
        "Must be at least 8 characters long\n",
        "\n",
        "Must contain both uppercase and lowercase letters\n",
        "\n",
        "Must contain at least one number between 0-9\n",
        "\n",
        "Must contain a special character -!,@,#,$\n",
        "\n",
        "If the password is not valid, ask the user to re-enter. This should continue until the user enters a valid password. After a valid password is entered, print Access Granted!\n",
        "\n",
        "```\n",
        "Please enter a password. Follow these requirements - \n",
        "a. Must be at least 8 characters long\n",
        "b. Must contain both uppercase and lowercase letters\n",
        "c. Must contain at least one number between 0-9\n",
        "d. Must contain a special character -!,@,#,$\n",
        "Password: HelloWorld1\n",
        "Invalid password. Try again!\n",
        "Password: Hello@World1\n",
        "Access Granted!\n",
        "```\n"
      ]
    },
    {
      "cell_type": "code",
      "metadata": {
        "id": "OXmZ177Rl-RV",
        "colab": {
          "base_uri": "https://localhost:8080/"
        },
        "outputId": "db7ff6d7-4bed-4cae-9fb0-92f0294e9927"
      },
      "source": [
        "# Type solution here\n",
        "password = input(\"Password: \")\n",
        "length = False\n",
        "upper = False\n",
        "lower = False\n",
        "digit = False\n",
        "special = False\n",
        "access = False\n",
        "for x in password:\n",
        "  if len(password) > 8:\n",
        "    length = True\n",
        "  if x.isalpha():\n",
        "    if x == x.upper():\n",
        "      # print(\"up\", x)\n",
        "      upper = True\n",
        "    elif x == x.lower():\n",
        "      lower = True\n",
        "      # print(\"Lower\", x)\n",
        "  if x.isdigit():\n",
        "    # print(\"Digit\", x)\n",
        "    digit = True\n",
        "  if x.isdigit() == False and x.isspace() == False and x.isalpha() == False:\n",
        "    # print(\"special\", x)\n",
        "    special = True\n",
        "  if length == True and lower == True and upper == True and digit == True and special == True:\n",
        "    access = True\n",
        "    break\n",
        "if access:\n",
        "  print(\"access granted!\")\n",
        "else:\n",
        "  print(\"access denied\")"
      ],
      "execution_count": null,
      "outputs": [
        {
          "output_type": "stream",
          "text": [
            "Password: helloWorld123!\n",
            "access granted!\n"
          ],
          "name": "stdout"
        }
      ]
    },
    {
      "cell_type": "markdown",
      "metadata": {
        "id": "-0sdutTDnTKA"
      },
      "source": [
        "##### Q9. Given the score sheet of participants in a competition, you are required to find the runner-up score. You are given scores in a list. Find the score of the runner-up.\n",
        "\n",
        "```\n",
        "list1 - [2, 3, 6, 6, 5]\n",
        "runner_up - 5\n",
        "\n",
        "list2 - [1, 7, 5, 3, 10, 4, 5, 5, 6, 11]\n",
        "runner_up - 10\n",
        "```"
      ]
    },
    {
      "cell_type": "code",
      "metadata": {
        "id": "12YP9OaqpGRK",
        "colab": {
          "base_uri": "https://localhost:8080/"
        },
        "outputId": "fad1a6d6-4099-4fc4-aa9b-01edaa1486dc"
      },
      "source": [
        "# Type solution here\n",
        "list1 = [2, 3, 6, 6, 5]\n",
        "list2 = [1, 7, 5, 3, 10, 4, 5, 5, 6, 11]\n",
        "max1 = 0\n",
        "max2 = -1\n",
        "for x in list1:\n",
        "  if x > max1:\n",
        "    max2 = max1\n",
        "    max1 = x\n",
        "  elif x < max1 and x > max2:\n",
        "    max2 = x\n",
        "\n",
        "print(\"Runner up -\", max2)\n",
        "\n",
        "max1 = 0\n",
        "max2 = -1\n",
        "for x in list2:\n",
        "  if x > max1:\n",
        "    max2 = max1\n",
        "    max1 = x\n",
        "  elif x < max1 and x > max2:\n",
        "    max2 = x\n",
        "print(\"Runner up -\", max2)"
      ],
      "execution_count": null,
      "outputs": [
        {
          "output_type": "stream",
          "text": [
            "Runner up - 5\n",
            "Runner up - 10\n"
          ],
          "name": "stdout"
        }
      ]
    }
  ]
}